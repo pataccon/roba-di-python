{
 "cells": [
  {
   "cell_type": "code",
   "execution_count": 1,
   "id": "08ec3dd0-245b-4945-a5a1-84693fc58d42",
   "metadata": {},
   "outputs": [],
   "source": [
    "import threading\n",
    "import time\n",
    "import random\n",
    "from datetime import datetime\n",
    "import queue"
   ]
  },
  {
   "cell_type": "code",
   "execution_count": 19,
   "id": "d959a80b-d2b0-4559-9d37-f9d252170307",
   "metadata": {},
   "outputs": [],
   "source": [
    "def produttore(buffer):\n",
    "    inizio=fine=datetime.now()\n",
    "    while(fine-inizio).total_seconds()<10:\n",
    "        valore=random.randint(1,100)\n",
    "        print(\"inserito il valore: \", valore)\n",
    "        buffer.put(valore)\n",
    "        time.sleep(1)\n",
    "        fine=datetime.now()\n",
    "    buffer.put(-1)"
   ]
  },
  {
   "cell_type": "code",
   "execution_count": 13,
   "id": "86e088f6-cff7-4472-8b6f-3ac7c47afd8e",
   "metadata": {},
   "outputs": [],
   "source": [
    "def consumatore(buffer):\n",
    "    stop=False\n",
    "    while not stop:\n",
    "        numero=buffer.get()\n",
    "        if numero==-1:\n",
    "            stop=True\n",
    "        else:\n",
    "            print(\"estrazione del numero: \", numero)"
   ]
  },
  {
   "cell_type": "code",
   "execution_count": 20,
   "id": "cfd61b3b-15f3-477a-bef7-664f5a7d0f50",
   "metadata": {},
   "outputs": [
    {
     "name": "stdout",
     "output_type": "stream",
     "text": [
      "inserito il valore:  73\n",
      "estrazione del numero:  73\n",
      "inserito il valore:  35\n",
      "estrazione del numero:  35\n",
      "inserito il valore:  68\n",
      "estrazione del numero:  68\n",
      "inserito il valore:  92\n",
      "estrazione del numero:  92\n",
      "inserito il valore:  15\n",
      "estrazione del numero:  15\n",
      "inserito il valore:  63\n",
      "estrazione del numero:  63\n",
      "inserito il valore:  7\n",
      "estrazione del numero:  7\n",
      "inserito il valore:  12\n",
      "estrazione del numero:  12\n",
      "inserito il valore:  28\n",
      "estrazione del numero:  28\n",
      "inserito il valore:  25\n",
      "estrazione del numero:  25\n"
     ]
    }
   ],
   "source": [
    "buffer = queue.Queue()\n",
    "x = [0]\n",
    "\n",
    "t1 = threading.Thread(target=produttore, args=(buffer,))\n",
    "t2 = threading.Thread(target=consumatore, args=(buffer,))\n",
    "#t3 = threading.Thread(target=produttore, args=(buffer,))\n",
    "\n",
    "\n",
    "t1.start()\n",
    "t2.start()\n",
    "#t3.start()\n",
    "\n",
    "t1.join()\n",
    "t2.join()\n",
    "#t3.join()"
   ]
  },
  {
   "cell_type": "code",
   "execution_count": null,
   "id": "605275f6-0ead-4031-8518-f1d305420f3b",
   "metadata": {},
   "outputs": [],
   "source": []
  }
 ],
 "metadata": {
  "kernelspec": {
   "display_name": "Python 3 (ipykernel)",
   "language": "python",
   "name": "python3"
  },
  "language_info": {
   "codemirror_mode": {
    "name": "ipython",
    "version": 3
   },
   "file_extension": ".py",
   "mimetype": "text/x-python",
   "name": "python",
   "nbconvert_exporter": "python",
   "pygments_lexer": "ipython3",
   "version": "3.9.21"
  }
 },
 "nbformat": 4,
 "nbformat_minor": 5
}
