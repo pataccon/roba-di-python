{
 "cells": [
  {
   "cell_type": "code",
   "execution_count": 4,
   "id": "08ec3dd0-245b-4945-a5a1-84693fc58d42",
   "metadata": {},
   "outputs": [],
   "source": [
    "import threading\n",
    "import time\n",
    "import random\n",
    "from datetime import datetime\n",
    "import queue"
   ]
  },
  {
   "cell_type": "code",
   "execution_count": 5,
   "id": "d959a80b-d2b0-4559-9d37-f9d252170307",
   "metadata": {},
   "outputs": [],
   "source": [
    "def produttore(buffer):\n",
    "    inizio=fine=datetime.now()\n",
    "    while(fine-inizio).total_seconds()<10:\n",
    "        valore=random.randint(1,10)\n",
    "        if \"ciambella\" in buffer:\n",
    "            ciambelle=buffer[\"ciambella\"]\n",
    "        else:\n",
    "            ciambelle=0\n",
    "        ciambelle+=valore\n",
    "        buffer[\"ciambella\"]=ciambelle\n",
    "        print(\"in vendita ci sono \", buffer[\"ciambella\"], \" ciambelle\")\n",
    "        time.sleep(3)\n",
    "        fine=datetime.now()"
   ]
  },
  {
   "cell_type": "code",
   "execution_count": 6,
   "id": "86e088f6-cff7-4472-8b6f-3ac7c47afd8e",
   "metadata": {},
   "outputs": [],
   "source": [
    "def consumatore(buffer):\n",
    "    inizio=fine=datetime.now()\n",
    "    while(fine-inizio).total_seconds()<10:\n",
    "        if \"ciambella\" in buffer:\n",
    "            ciambelle=buffer[\"ciambella\"]\n",
    "            if ciambelle >= 1:\n",
    "                ciambelle-=1\n",
    "                buffer[\"ciambella\"] = ciambelle\n",
    "                print(\"Venduta 1 ciambella, ne rimangono: \", ciambelle)\n",
    "            else:\n",
    "                del buffer[\"ciambella\"]\n",
    "                print(\"non ci sono ciambelle in vendita\")"
   ]
  },
  {
   "cell_type": "code",
   "execution_count": null,
   "id": "cfd61b3b-15f3-477a-bef7-664f5a7d0f50",
   "metadata": {},
   "outputs": [
    {
     "name": "stdout",
     "output_type": "stream",
     "text": [
      "in vendita ci sono  8  ciambelle\n",
      "Venduta 1 ciambella, ne rimangono:  7\n",
      "Venduta 1 ciambella, ne rimangono:  6\n",
      "Venduta 1 ciambella, ne rimangono:  5\n",
      "Venduta 1 ciambella, ne rimangono:  4\n",
      "Venduta 1 ciambella, ne rimangono:  3\n",
      "Venduta 1 ciambella, ne rimangono:  2\n",
      "Venduta 1 ciambella, ne rimangono:  1\n",
      "Venduta 1 ciambella, ne rimangono:  0\n",
      "non ci sono ciambelle in vendita\n",
      "in vendita ci sono Venduta 1 ciambella, ne rimangono:  1\n",
      "Venduta 1 ciambella, ne rimangono:  0\n",
      "non ci sono ciambelle in vendita\n",
      " 2  ciambelle\n",
      "in vendita ci sono Venduta 1 ciambella, ne rimangono:  3\n",
      "Venduta 1 ciambella, ne rimangono:  2\n",
      "Venduta 1 ciambella, ne rimangono:  1\n",
      "Venduta 1 ciambella, ne rimangono:  0\n",
      "non ci sono ciambelle in vendita\n",
      " 4  ciambelle\n",
      "in vendita ci sono  4  ciambelle\n",
      "Venduta 1 ciambella, ne rimangono:  3\n",
      "Venduta 1 ciambella, ne rimangono:  2\n",
      "Venduta 1 ciambella, ne rimangono:  1\n",
      "Venduta 1 ciambella, ne rimangono:  0\n",
      "non ci sono ciambelle in vendita\n"
     ]
    }
   ],
   "source": [
    "buffer = {\"ciambella\":3}\n",
    "x = [0]\n",
    "\n",
    "t1 = threading.Thread(target=produttore, args=(buffer,))\n",
    "t2 = threading.Thread(target=consumatore, args=(buffer,))\n",
    "\n",
    "\n",
    "t1.start()\n",
    "t2.start()\n",
    "\n",
    "t1.join()\n",
    "t2.join()"
   ]
  },
  {
   "cell_type": "code",
   "execution_count": null,
   "id": "605275f6-0ead-4031-8518-f1d305420f3b",
   "metadata": {},
   "outputs": [],
   "source": []
  }
 ],
 "metadata": {
  "kernelspec": {
   "display_name": "Python 3 (ipykernel)",
   "language": "python",
   "name": "python3"
  },
  "language_info": {
   "codemirror_mode": {
    "name": "ipython",
    "version": 3
   },
   "file_extension": ".py",
   "mimetype": "text/x-python",
   "name": "python",
   "nbconvert_exporter": "python",
   "pygments_lexer": "ipython3",
   "version": "3.9.21"
  }
 },
 "nbformat": 4,
 "nbformat_minor": 5
}
