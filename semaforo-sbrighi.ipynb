{
 "cells": [
  {
   "cell_type": "code",
   "execution_count": 1,
   "id": "08ec3dd0-245b-4945-a5a1-84693fc58d42",
   "metadata": {},
   "outputs": [],
   "source": [
    "import threading\n",
    "import time\n",
    "import random"
   ]
  },
  {
   "cell_type": "code",
   "execution_count": 35,
   "id": "5afee912-d6f6-4c26-ac04-3c3c42aea92e",
   "metadata": {},
   "outputs": [],
   "source": [
    "def aggiungi(lock, x,):\n",
    "    print()\n",
    "    valore = random.randint(1,100)\n",
    "    print(\"Valore aggiunto: \", valore)\n",
    "    lock.acquire()\n",
    "    x[0] += valore\n",
    "    print(\"Aggiunta a x: \", id(x))\n",
    "    lock.release()"
   ]
  },
  {
   "cell_type": "code",
   "execution_count": 36,
   "id": "86e088f6-cff7-4472-8b6f-3ac7c47afd8e",
   "metadata": {},
   "outputs": [],
   "source": [
    "def sottrai(lock, x,):\n",
    "    print()\n",
    "    valore = random.randint(1,100)\n",
    "    print(\"Valore sottratto: \", valore)\n",
    "    lock.acquire()\n",
    "    x[0] -= valore\n",
    "    print(\"Sottrazione a x: \", id(x))\n",
    "    lock.release()"
   ]
  },
  {
   "cell_type": "code",
   "execution_count": 37,
   "id": "cfd61b3b-15f3-477a-bef7-664f5a7d0f50",
   "metadata": {},
   "outputs": [
    {
     "name": "stdout",
     "output_type": "stream",
     "text": [
      "MAIN x:  139889548880192\n",
      "\n",
      "Valore aggiunto:  49\n",
      "Aggiunta a x:  139889548880192\n",
      "\n",
      "Valore sottratto:  72\n",
      "Sottrazione a x:  139889548880192\n",
      "\n",
      "Valore finale di x:  -23\n"
     ]
    }
   ],
   "source": [
    "lock = threading.Semaphore()\n",
    "x = [0]\n",
    "print(\"MAIN x: \", id(x))\n",
    "\n",
    "t1 = threading.Thread(target=aggiungi, args=(lock,x,))\n",
    "t2 = threading.Thread(target=sottrai, args=(lock,x,))\n",
    "\n",
    "t1.start()\n",
    "t2.start()\n",
    "\n",
    "t1.join()\n",
    "t2.join()\n",
    "\n",
    "print()\n",
    "print(\"Valore finale di x: \",x[0])"
   ]
  }
 ],
 "metadata": {
  "kernelspec": {
   "display_name": "Python 3 (ipykernel)",
   "language": "python",
   "name": "python3"
  },
  "language_info": {
   "codemirror_mode": {
    "name": "ipython",
    "version": 3
   },
   "file_extension": ".py",
   "mimetype": "text/x-python",
   "name": "python",
   "nbconvert_exporter": "python",
   "pygments_lexer": "ipython3",
   "version": "3.9.21"
  }
 },
 "nbformat": 4,
 "nbformat_minor": 5
}
